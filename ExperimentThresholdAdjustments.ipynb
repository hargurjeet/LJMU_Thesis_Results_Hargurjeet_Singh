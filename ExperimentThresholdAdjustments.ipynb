{
  "nbformat": 4,
  "nbformat_minor": 0,
  "metadata": {
    "colab": {
      "provenance": [],
      "authorship_tag": "ABX9TyOJEzBhPuFb4ahm+1bTFy6q",
      "include_colab_link": true
    },
    "kernelspec": {
      "name": "python3",
      "display_name": "Python 3"
    },
    "language_info": {
      "name": "python"
    }
  },
  "cells": [
    {
      "cell_type": "markdown",
      "metadata": {
        "id": "view-in-github",
        "colab_type": "text"
      },
      "source": [
        "<a href=\"https://colab.research.google.com/github/hargurjeet/LJMU_Thesis/blob/main/ExperimentThresholdAdjustments.ipynb\" target=\"_parent\"><img src=\"https://colab.research.google.com/assets/colab-badge.svg\" alt=\"Open In Colab\"/></a>"
      ]
    },
    {
      "cell_type": "code",
      "execution_count": 1,
      "metadata": {
        "colab": {
          "base_uri": "https://localhost:8080/"
        },
        "id": "vbVLRMxP3Yde",
        "outputId": "262718d1-2580-44fe-883f-9ed0cb40d96d"
      },
      "outputs": [
        {
          "output_type": "stream",
          "name": "stdout",
          "text": [
            "Cloning into 'LJMU_Thesis'...\n",
            "remote: Enumerating objects: 126, done.\u001b[K\n",
            "remote: Counting objects: 100% (126/126), done.\u001b[K\n",
            "remote: Compressing objects: 100% (121/121), done.\u001b[K\n",
            "remote: Total 126 (delta 69), reused 9 (delta 3), pack-reused 0 (from 0)\u001b[K\n",
            "Receiving objects: 100% (126/126), 552.27 KiB | 5.36 MiB/s, done.\n",
            "Resolving deltas: 100% (69/69), done.\n"
          ]
        }
      ],
      "source": [
        "!git clone https://github.com/hargurjeet/LJMU_Thesis.git"
      ]
    },
    {
      "cell_type": "code",
      "source": [
        "!pip install pandas openai==0.28"
      ],
      "metadata": {
        "colab": {
          "base_uri": "https://localhost:8080/"
        },
        "id": "tUYYmZVa4VBx",
        "outputId": "c58be878-7246-4c3f-b3c6-7e1779a09f47"
      },
      "execution_count": 5,
      "outputs": [
        {
          "output_type": "stream",
          "name": "stdout",
          "text": [
            "Requirement already satisfied: pandas in /usr/local/lib/python3.10/dist-packages (2.1.4)\n",
            "Collecting openai==0.28\n",
            "  Downloading openai-0.28.0-py3-none-any.whl.metadata (13 kB)\n",
            "Requirement already satisfied: requests>=2.20 in /usr/local/lib/python3.10/dist-packages (from openai==0.28) (2.32.3)\n",
            "Requirement already satisfied: tqdm in /usr/local/lib/python3.10/dist-packages (from openai==0.28) (4.66.5)\n",
            "Requirement already satisfied: aiohttp in /usr/local/lib/python3.10/dist-packages (from openai==0.28) (3.10.2)\n",
            "Requirement already satisfied: numpy<2,>=1.22.4 in /usr/local/lib/python3.10/dist-packages (from pandas) (1.26.4)\n",
            "Requirement already satisfied: python-dateutil>=2.8.2 in /usr/local/lib/python3.10/dist-packages (from pandas) (2.8.2)\n",
            "Requirement already satisfied: pytz>=2020.1 in /usr/local/lib/python3.10/dist-packages (from pandas) (2024.1)\n",
            "Requirement already satisfied: tzdata>=2022.1 in /usr/local/lib/python3.10/dist-packages (from pandas) (2024.1)\n",
            "Requirement already satisfied: six>=1.5 in /usr/local/lib/python3.10/dist-packages (from python-dateutil>=2.8.2->pandas) (1.16.0)\n",
            "Requirement already satisfied: charset-normalizer<4,>=2 in /usr/local/lib/python3.10/dist-packages (from requests>=2.20->openai==0.28) (3.3.2)\n",
            "Requirement already satisfied: idna<4,>=2.5 in /usr/local/lib/python3.10/dist-packages (from requests>=2.20->openai==0.28) (3.7)\n",
            "Requirement already satisfied: urllib3<3,>=1.21.1 in /usr/local/lib/python3.10/dist-packages (from requests>=2.20->openai==0.28) (2.0.7)\n",
            "Requirement already satisfied: certifi>=2017.4.17 in /usr/local/lib/python3.10/dist-packages (from requests>=2.20->openai==0.28) (2024.7.4)\n",
            "Requirement already satisfied: aiohappyeyeballs>=2.3.0 in /usr/local/lib/python3.10/dist-packages (from aiohttp->openai==0.28) (2.3.5)\n",
            "Requirement already satisfied: aiosignal>=1.1.2 in /usr/local/lib/python3.10/dist-packages (from aiohttp->openai==0.28) (1.3.1)\n",
            "Requirement already satisfied: attrs>=17.3.0 in /usr/local/lib/python3.10/dist-packages (from aiohttp->openai==0.28) (24.2.0)\n",
            "Requirement already satisfied: frozenlist>=1.1.1 in /usr/local/lib/python3.10/dist-packages (from aiohttp->openai==0.28) (1.4.1)\n",
            "Requirement already satisfied: multidict<7.0,>=4.5 in /usr/local/lib/python3.10/dist-packages (from aiohttp->openai==0.28) (6.0.5)\n",
            "Requirement already satisfied: yarl<2.0,>=1.0 in /usr/local/lib/python3.10/dist-packages (from aiohttp->openai==0.28) (1.9.4)\n",
            "Requirement already satisfied: async-timeout<5.0,>=4.0 in /usr/local/lib/python3.10/dist-packages (from aiohttp->openai==0.28) (4.0.3)\n",
            "Downloading openai-0.28.0-py3-none-any.whl (76 kB)\n",
            "\u001b[2K   \u001b[90m━━━━━━━━━━━━━━━━━━━━━━━━━━━━━━━━━━━━━━━━\u001b[0m \u001b[32m76.5/76.5 kB\u001b[0m \u001b[31m1.8 MB/s\u001b[0m eta \u001b[36m0:00:00\u001b[0m\n",
            "\u001b[?25hInstalling collected packages: openai\n",
            "Successfully installed openai-0.28.0\n"
          ]
        }
      ]
    },
    {
      "cell_type": "code",
      "source": [
        "import pandas as pd\n",
        "import pandas as pd\n",
        "from sklearn.model_selection import train_test_split\n",
        "from sklearn.ensemble import RandomForestClassifier\n",
        "from sklearn.metrics import f1_score, accuracy_score,classification_report\n",
        "import numpy as np\n",
        "import tensorflow as tf\n",
        "from sklearn.preprocessing import StandardScaler\n",
        "from sklearn.decomposition import PCA\n",
        "import xgboost as xgb"
      ],
      "metadata": {
        "id": "RsFq0K7Z3s4V"
      },
      "execution_count": 3,
      "outputs": []
    },
    {
      "cell_type": "markdown",
      "source": [
        "## Open AI experiments"
      ],
      "metadata": {
        "id": "qHgXJ4FyGBFy"
      }
    },
    {
      "cell_type": "code",
      "source": [
        "df_open_ai = pd.read_csv(\"/content/LJMU_Thesis/Processed_output/openai_generated_output.csv\")\n",
        "df_open_ai.head()"
      ],
      "metadata": {
        "colab": {
          "base_uri": "https://localhost:8080/",
          "height": 206
        },
        "id": "SkC76cGh3pWS",
        "outputId": "65ca3a40-fa8b-4799-f0dc-78b9f7bf83ef"
      },
      "execution_count": 8,
      "outputs": [
        {
          "output_type": "execute_result",
          "data": {
            "text/plain": [
              "   Age FrequentFlyer AnnualIncomeClass  ServicesOpted  \\\n",
              "0   34            No     Middle Income              6   \n",
              "1   34           Yes        Low Income              5   \n",
              "2   37            No     Middle Income              3   \n",
              "3   30            No     Middle Income              2   \n",
              "4   30            No        Low Income              1   \n",
              "\n",
              "  AccountSyncedToSocialMedia BookedHotelOrNot  Target  \\\n",
              "0                         No              Yes       0   \n",
              "1                        Yes               No       1   \n",
              "2                        Yes               No       0   \n",
              "3                         No               No       0   \n",
              "4                         No               No       0   \n",
              "\n",
              "                                         TextualData  \n",
              "0  The customer is 34 years old and has indicated...  \n",
              "1  The customer is aged 34 and is a frequent flye...  \n",
              "2  The customer is 37 years old and is not a freq...  \n",
              "3  The customer is aged 30 and is not a frequent ...  \n",
              "4  The customer is 30 years old, does not frequen...  "
            ],
            "text/html": [
              "\n",
              "  <div id=\"df-f55696d7-4f7e-4998-a4fe-e18937a32d70\" class=\"colab-df-container\">\n",
              "    <div>\n",
              "<style scoped>\n",
              "    .dataframe tbody tr th:only-of-type {\n",
              "        vertical-align: middle;\n",
              "    }\n",
              "\n",
              "    .dataframe tbody tr th {\n",
              "        vertical-align: top;\n",
              "    }\n",
              "\n",
              "    .dataframe thead th {\n",
              "        text-align: right;\n",
              "    }\n",
              "</style>\n",
              "<table border=\"1\" class=\"dataframe\">\n",
              "  <thead>\n",
              "    <tr style=\"text-align: right;\">\n",
              "      <th></th>\n",
              "      <th>Age</th>\n",
              "      <th>FrequentFlyer</th>\n",
              "      <th>AnnualIncomeClass</th>\n",
              "      <th>ServicesOpted</th>\n",
              "      <th>AccountSyncedToSocialMedia</th>\n",
              "      <th>BookedHotelOrNot</th>\n",
              "      <th>Target</th>\n",
              "      <th>TextualData</th>\n",
              "    </tr>\n",
              "  </thead>\n",
              "  <tbody>\n",
              "    <tr>\n",
              "      <th>0</th>\n",
              "      <td>34</td>\n",
              "      <td>No</td>\n",
              "      <td>Middle Income</td>\n",
              "      <td>6</td>\n",
              "      <td>No</td>\n",
              "      <td>Yes</td>\n",
              "      <td>0</td>\n",
              "      <td>The customer is 34 years old and has indicated...</td>\n",
              "    </tr>\n",
              "    <tr>\n",
              "      <th>1</th>\n",
              "      <td>34</td>\n",
              "      <td>Yes</td>\n",
              "      <td>Low Income</td>\n",
              "      <td>5</td>\n",
              "      <td>Yes</td>\n",
              "      <td>No</td>\n",
              "      <td>1</td>\n",
              "      <td>The customer is aged 34 and is a frequent flye...</td>\n",
              "    </tr>\n",
              "    <tr>\n",
              "      <th>2</th>\n",
              "      <td>37</td>\n",
              "      <td>No</td>\n",
              "      <td>Middle Income</td>\n",
              "      <td>3</td>\n",
              "      <td>Yes</td>\n",
              "      <td>No</td>\n",
              "      <td>0</td>\n",
              "      <td>The customer is 37 years old and is not a freq...</td>\n",
              "    </tr>\n",
              "    <tr>\n",
              "      <th>3</th>\n",
              "      <td>30</td>\n",
              "      <td>No</td>\n",
              "      <td>Middle Income</td>\n",
              "      <td>2</td>\n",
              "      <td>No</td>\n",
              "      <td>No</td>\n",
              "      <td>0</td>\n",
              "      <td>The customer is aged 30 and is not a frequent ...</td>\n",
              "    </tr>\n",
              "    <tr>\n",
              "      <th>4</th>\n",
              "      <td>30</td>\n",
              "      <td>No</td>\n",
              "      <td>Low Income</td>\n",
              "      <td>1</td>\n",
              "      <td>No</td>\n",
              "      <td>No</td>\n",
              "      <td>0</td>\n",
              "      <td>The customer is 30 years old, does not frequen...</td>\n",
              "    </tr>\n",
              "  </tbody>\n",
              "</table>\n",
              "</div>\n",
              "    <div class=\"colab-df-buttons\">\n",
              "\n",
              "  <div class=\"colab-df-container\">\n",
              "    <button class=\"colab-df-convert\" onclick=\"convertToInteractive('df-f55696d7-4f7e-4998-a4fe-e18937a32d70')\"\n",
              "            title=\"Convert this dataframe to an interactive table.\"\n",
              "            style=\"display:none;\">\n",
              "\n",
              "  <svg xmlns=\"http://www.w3.org/2000/svg\" height=\"24px\" viewBox=\"0 -960 960 960\">\n",
              "    <path d=\"M120-120v-720h720v720H120Zm60-500h600v-160H180v160Zm220 220h160v-160H400v160Zm0 220h160v-160H400v160ZM180-400h160v-160H180v160Zm440 0h160v-160H620v160ZM180-180h160v-160H180v160Zm440 0h160v-160H620v160Z\"/>\n",
              "  </svg>\n",
              "    </button>\n",
              "\n",
              "  <style>\n",
              "    .colab-df-container {\n",
              "      display:flex;\n",
              "      gap: 12px;\n",
              "    }\n",
              "\n",
              "    .colab-df-convert {\n",
              "      background-color: #E8F0FE;\n",
              "      border: none;\n",
              "      border-radius: 50%;\n",
              "      cursor: pointer;\n",
              "      display: none;\n",
              "      fill: #1967D2;\n",
              "      height: 32px;\n",
              "      padding: 0 0 0 0;\n",
              "      width: 32px;\n",
              "    }\n",
              "\n",
              "    .colab-df-convert:hover {\n",
              "      background-color: #E2EBFA;\n",
              "      box-shadow: 0px 1px 2px rgba(60, 64, 67, 0.3), 0px 1px 3px 1px rgba(60, 64, 67, 0.15);\n",
              "      fill: #174EA6;\n",
              "    }\n",
              "\n",
              "    .colab-df-buttons div {\n",
              "      margin-bottom: 4px;\n",
              "    }\n",
              "\n",
              "    [theme=dark] .colab-df-convert {\n",
              "      background-color: #3B4455;\n",
              "      fill: #D2E3FC;\n",
              "    }\n",
              "\n",
              "    [theme=dark] .colab-df-convert:hover {\n",
              "      background-color: #434B5C;\n",
              "      box-shadow: 0px 1px 3px 1px rgba(0, 0, 0, 0.15);\n",
              "      filter: drop-shadow(0px 1px 2px rgba(0, 0, 0, 0.3));\n",
              "      fill: #FFFFFF;\n",
              "    }\n",
              "  </style>\n",
              "\n",
              "    <script>\n",
              "      const buttonEl =\n",
              "        document.querySelector('#df-f55696d7-4f7e-4998-a4fe-e18937a32d70 button.colab-df-convert');\n",
              "      buttonEl.style.display =\n",
              "        google.colab.kernel.accessAllowed ? 'block' : 'none';\n",
              "\n",
              "      async function convertToInteractive(key) {\n",
              "        const element = document.querySelector('#df-f55696d7-4f7e-4998-a4fe-e18937a32d70');\n",
              "        const dataTable =\n",
              "          await google.colab.kernel.invokeFunction('convertToInteractive',\n",
              "                                                    [key], {});\n",
              "        if (!dataTable) return;\n",
              "\n",
              "        const docLinkHtml = 'Like what you see? Visit the ' +\n",
              "          '<a target=\"_blank\" href=https://colab.research.google.com/notebooks/data_table.ipynb>data table notebook</a>'\n",
              "          + ' to learn more about interactive tables.';\n",
              "        element.innerHTML = '';\n",
              "        dataTable['output_type'] = 'display_data';\n",
              "        await google.colab.output.renderOutput(dataTable, element);\n",
              "        const docLink = document.createElement('div');\n",
              "        docLink.innerHTML = docLinkHtml;\n",
              "        element.appendChild(docLink);\n",
              "      }\n",
              "    </script>\n",
              "  </div>\n",
              "\n",
              "\n",
              "<div id=\"df-5bfee8a5-90f3-4efc-9307-9d21534a2a11\">\n",
              "  <button class=\"colab-df-quickchart\" onclick=\"quickchart('df-5bfee8a5-90f3-4efc-9307-9d21534a2a11')\"\n",
              "            title=\"Suggest charts\"\n",
              "            style=\"display:none;\">\n",
              "\n",
              "<svg xmlns=\"http://www.w3.org/2000/svg\" height=\"24px\"viewBox=\"0 0 24 24\"\n",
              "     width=\"24px\">\n",
              "    <g>\n",
              "        <path d=\"M19 3H5c-1.1 0-2 .9-2 2v14c0 1.1.9 2 2 2h14c1.1 0 2-.9 2-2V5c0-1.1-.9-2-2-2zM9 17H7v-7h2v7zm4 0h-2V7h2v10zm4 0h-2v-4h2v4z\"/>\n",
              "    </g>\n",
              "</svg>\n",
              "  </button>\n",
              "\n",
              "<style>\n",
              "  .colab-df-quickchart {\n",
              "      --bg-color: #E8F0FE;\n",
              "      --fill-color: #1967D2;\n",
              "      --hover-bg-color: #E2EBFA;\n",
              "      --hover-fill-color: #174EA6;\n",
              "      --disabled-fill-color: #AAA;\n",
              "      --disabled-bg-color: #DDD;\n",
              "  }\n",
              "\n",
              "  [theme=dark] .colab-df-quickchart {\n",
              "      --bg-color: #3B4455;\n",
              "      --fill-color: #D2E3FC;\n",
              "      --hover-bg-color: #434B5C;\n",
              "      --hover-fill-color: #FFFFFF;\n",
              "      --disabled-bg-color: #3B4455;\n",
              "      --disabled-fill-color: #666;\n",
              "  }\n",
              "\n",
              "  .colab-df-quickchart {\n",
              "    background-color: var(--bg-color);\n",
              "    border: none;\n",
              "    border-radius: 50%;\n",
              "    cursor: pointer;\n",
              "    display: none;\n",
              "    fill: var(--fill-color);\n",
              "    height: 32px;\n",
              "    padding: 0;\n",
              "    width: 32px;\n",
              "  }\n",
              "\n",
              "  .colab-df-quickchart:hover {\n",
              "    background-color: var(--hover-bg-color);\n",
              "    box-shadow: 0 1px 2px rgba(60, 64, 67, 0.3), 0 1px 3px 1px rgba(60, 64, 67, 0.15);\n",
              "    fill: var(--button-hover-fill-color);\n",
              "  }\n",
              "\n",
              "  .colab-df-quickchart-complete:disabled,\n",
              "  .colab-df-quickchart-complete:disabled:hover {\n",
              "    background-color: var(--disabled-bg-color);\n",
              "    fill: var(--disabled-fill-color);\n",
              "    box-shadow: none;\n",
              "  }\n",
              "\n",
              "  .colab-df-spinner {\n",
              "    border: 2px solid var(--fill-color);\n",
              "    border-color: transparent;\n",
              "    border-bottom-color: var(--fill-color);\n",
              "    animation:\n",
              "      spin 1s steps(1) infinite;\n",
              "  }\n",
              "\n",
              "  @keyframes spin {\n",
              "    0% {\n",
              "      border-color: transparent;\n",
              "      border-bottom-color: var(--fill-color);\n",
              "      border-left-color: var(--fill-color);\n",
              "    }\n",
              "    20% {\n",
              "      border-color: transparent;\n",
              "      border-left-color: var(--fill-color);\n",
              "      border-top-color: var(--fill-color);\n",
              "    }\n",
              "    30% {\n",
              "      border-color: transparent;\n",
              "      border-left-color: var(--fill-color);\n",
              "      border-top-color: var(--fill-color);\n",
              "      border-right-color: var(--fill-color);\n",
              "    }\n",
              "    40% {\n",
              "      border-color: transparent;\n",
              "      border-right-color: var(--fill-color);\n",
              "      border-top-color: var(--fill-color);\n",
              "    }\n",
              "    60% {\n",
              "      border-color: transparent;\n",
              "      border-right-color: var(--fill-color);\n",
              "    }\n",
              "    80% {\n",
              "      border-color: transparent;\n",
              "      border-right-color: var(--fill-color);\n",
              "      border-bottom-color: var(--fill-color);\n",
              "    }\n",
              "    90% {\n",
              "      border-color: transparent;\n",
              "      border-bottom-color: var(--fill-color);\n",
              "    }\n",
              "  }\n",
              "</style>\n",
              "\n",
              "  <script>\n",
              "    async function quickchart(key) {\n",
              "      const quickchartButtonEl =\n",
              "        document.querySelector('#' + key + ' button');\n",
              "      quickchartButtonEl.disabled = true;  // To prevent multiple clicks.\n",
              "      quickchartButtonEl.classList.add('colab-df-spinner');\n",
              "      try {\n",
              "        const charts = await google.colab.kernel.invokeFunction(\n",
              "            'suggestCharts', [key], {});\n",
              "      } catch (error) {\n",
              "        console.error('Error during call to suggestCharts:', error);\n",
              "      }\n",
              "      quickchartButtonEl.classList.remove('colab-df-spinner');\n",
              "      quickchartButtonEl.classList.add('colab-df-quickchart-complete');\n",
              "    }\n",
              "    (() => {\n",
              "      let quickchartButtonEl =\n",
              "        document.querySelector('#df-5bfee8a5-90f3-4efc-9307-9d21534a2a11 button');\n",
              "      quickchartButtonEl.style.display =\n",
              "        google.colab.kernel.accessAllowed ? 'block' : 'none';\n",
              "    })();\n",
              "  </script>\n",
              "</div>\n",
              "\n",
              "    </div>\n",
              "  </div>\n"
            ],
            "application/vnd.google.colaboratory.intrinsic+json": {
              "type": "dataframe",
              "variable_name": "df_open_ai",
              "summary": "{\n  \"name\": \"df_open_ai\",\n  \"rows\": 954,\n  \"fields\": [\n    {\n      \"column\": \"Age\",\n      \"properties\": {\n        \"dtype\": \"number\",\n        \"std\": 3,\n        \"min\": 27,\n        \"max\": 38,\n        \"num_unique_values\": 11,\n        \"samples\": [\n          28,\n          34,\n          33\n        ],\n        \"semantic_type\": \"\",\n        \"description\": \"\"\n      }\n    },\n    {\n      \"column\": \"FrequentFlyer\",\n      \"properties\": {\n        \"dtype\": \"category\",\n        \"num_unique_values\": 3,\n        \"samples\": [\n          \"No\",\n          \"Yes\",\n          \"No Record\"\n        ],\n        \"semantic_type\": \"\",\n        \"description\": \"\"\n      }\n    },\n    {\n      \"column\": \"AnnualIncomeClass\",\n      \"properties\": {\n        \"dtype\": \"category\",\n        \"num_unique_values\": 3,\n        \"samples\": [\n          \"Middle Income\",\n          \"Low Income\",\n          \"High Income\"\n        ],\n        \"semantic_type\": \"\",\n        \"description\": \"\"\n      }\n    },\n    {\n      \"column\": \"ServicesOpted\",\n      \"properties\": {\n        \"dtype\": \"number\",\n        \"std\": 1,\n        \"min\": 1,\n        \"max\": 6,\n        \"num_unique_values\": 6,\n        \"samples\": [\n          6,\n          5,\n          4\n        ],\n        \"semantic_type\": \"\",\n        \"description\": \"\"\n      }\n    },\n    {\n      \"column\": \"AccountSyncedToSocialMedia\",\n      \"properties\": {\n        \"dtype\": \"category\",\n        \"num_unique_values\": 2,\n        \"samples\": [\n          \"Yes\",\n          \"No\"\n        ],\n        \"semantic_type\": \"\",\n        \"description\": \"\"\n      }\n    },\n    {\n      \"column\": \"BookedHotelOrNot\",\n      \"properties\": {\n        \"dtype\": \"category\",\n        \"num_unique_values\": 2,\n        \"samples\": [\n          \"No\",\n          \"Yes\"\n        ],\n        \"semantic_type\": \"\",\n        \"description\": \"\"\n      }\n    },\n    {\n      \"column\": \"Target\",\n      \"properties\": {\n        \"dtype\": \"number\",\n        \"std\": 0,\n        \"min\": 0,\n        \"max\": 1,\n        \"num_unique_values\": 2,\n        \"samples\": [\n          1,\n          0\n        ],\n        \"semantic_type\": \"\",\n        \"description\": \"\"\n      }\n    },\n    {\n      \"column\": \"TextualData\",\n      \"properties\": {\n        \"dtype\": \"string\",\n        \"num_unique_values\": 954,\n        \"samples\": [\n          \"The customer is 33 years old. They do not have a recorded history of being a frequent flyer. Their annual income falls under the category of low income. The customer has opted for 2 services. Their account is synced to social media. However, they have not yet booked a hotel.\",\n          \"The customer is 37 years old and has a middle income level. They do not have frequent flyer status and have opted for 3 services. Their account is synced to social media, but they have not booked a hotel.\"\n        ],\n        \"semantic_type\": \"\",\n        \"description\": \"\"\n      }\n    }\n  ]\n}"
            }
          },
          "metadata": {},
          "execution_count": 8
        }
      ]
    },
    {
      "cell_type": "markdown",
      "source": [
        "## Generating embeddings for OpenAI model"
      ],
      "metadata": {
        "id": "4rgqbkeO307O"
      }
    },
    {
      "cell_type": "code",
      "source": [
        "import openai\n",
        "\n",
        "openai.api_key = ''"
      ],
      "metadata": {
        "id": "sgAwqfbz34a_"
      },
      "execution_count": 6,
      "outputs": []
    },
    {
      "cell_type": "code",
      "source": [
        "def get_embedding(text):\n",
        "    response = openai.Embedding.create(\n",
        "        model=\"text-embedding-ada-002\",\n",
        "        input=text\n",
        "    )\n",
        "    return response['data'][0]['embedding']\n",
        "\n",
        "df_open_ai['Embedding'] = df_open_ai['TextualData'].apply(get_embedding)"
      ],
      "metadata": {
        "id": "qMziFoe94h4o"
      },
      "execution_count": 12,
      "outputs": []
    },
    {
      "cell_type": "code",
      "source": [
        "import matplotlib.pyplot as plt\n",
        "# Prepare data\n",
        "X = df_open_ai['Embedding'].tolist()\n",
        "y = df_open_ai['Target'].values\n",
        "\n",
        "# Train-test split\n",
        "X_train, X_test, y_train, y_test = train_test_split(X, y, test_size=0.2, random_state=42)\n",
        "\n",
        "# Standardize the embeddings\n",
        "scaler = StandardScaler()\n",
        "X_train = scaler.fit_transform(X_train)\n",
        "X_test = scaler.transform(X_test)\n",
        "\n",
        "# Apply PCA and determine the explained variance\n",
        "pca = PCA()\n",
        "pca.fit(X_train)\n",
        "\n",
        "# Plot explained variance\n",
        "plt.figure(figsize=(10, 5))\n",
        "plt.plot(range(1, len(pca.explained_variance_ratio_) + 1), np.cumsum(pca.explained_variance_ratio_), marker='o')\n",
        "plt.title('Cumulative Explained Variance by PCA Components')\n",
        "plt.xlabel('Number of Components')\n",
        "plt.ylabel('Cumulative Explained Variance')\n",
        "plt.axhline(y=0.95, color='r', linestyle='--', label='95% Variance Threshold')\n",
        "plt.axvline(x=90, color='gray', linestyle='--')\n",
        "plt.legend()\n",
        "plt.grid()\n",
        "plt.show()"
      ],
      "metadata": {
        "colab": {
          "base_uri": "https://localhost:8080/",
          "height": 487
        },
        "id": "wxVz7VEx5xFJ",
        "outputId": "19d0d205-dafe-4d71-8472-f8df277b99b2"
      },
      "execution_count": 13,
      "outputs": [
        {
          "output_type": "display_data",
          "data": {
            "text/plain": [
              "<Figure size 1000x500 with 1 Axes>"
            ],
            "image/png": "[encoded data removed]"
          },
          "metadata": {}
        }
      ]
    },
    {
      "cell_type": "markdown",
      "source": [
        "## Training models"
      ],
      "metadata": {
        "id": "QIb7isKw59Jp"
      }
    },
    {
      "cell_type": "code",
      "source": [
        "\n",
        "# Split the data into training and testing sets\n",
        "X_train, X_test, y_train, y_test = train_test_split(\n",
        "    df_open_ai['Embedding'].tolist(),\n",
        "    df_open_ai['Target'],\n",
        "    test_size=0.2,\n",
        "    random_state=42\n",
        ")\n",
        "\n",
        "# Standardize the embeddings\n",
        "scaler = StandardScaler()\n",
        "X_train = scaler.fit_transform(X_train)\n",
        "X_test = scaler.transform(X_test)\n",
        "\n",
        "# Dimensionality Reduction with PCA\n",
        "# pca = PCA(n_components=min(len(X_train), X_train.shape[1]))\n",
        "pca = PCA(n_components=90)\n",
        "X_train_pca = pca.fit_transform(X_train)\n",
        "X_test_pca = pca.transform(X_test)\n",
        "\n",
        "# Train a RandomForestClassifier\n",
        "clf = RandomForestClassifier(n_estimators=100, random_state=42)\n",
        "clf.fit(X_train_pca, y_train)\n",
        "\n",
        "# Make predictions and evaluate the model\n",
        "y_pred = clf.predict(X_test_pca)\n",
        "report = classification_report(y_test, y_pred)\n",
        "print(report)"
      ],
      "metadata": {
        "colab": {
          "base_uri": "https://localhost:8080/"
        },
        "id": "0J52ju0z58gE",
        "outputId": "7458ced2-195d-40e8-c484-8d3d977f5883"
      },
      "execution_count": 14,
      "outputs": [
        {
          "output_type": "stream",
          "name": "stdout",
          "text": [
            "              precision    recall  f1-score   support\n",
            "\n",
            "           0       0.83      0.99      0.90       153\n",
            "           1       0.78      0.18      0.30        38\n",
            "\n",
            "    accuracy                           0.83       191\n",
            "   macro avg       0.80      0.59      0.60       191\n",
            "weighted avg       0.82      0.83      0.78       191\n",
            "\n"
          ]
        }
      ]
    },
    {
      "cell_type": "code",
      "source": [
        "xgb_model = xgb.XGBClassifier(objective='binary:logistic', eval_metric='logloss', seed=42)\n",
        "xgb_model.fit(X_train_pca, y_train)\n",
        "y_pred = xgb_model.predict(X_test_pca)\n",
        "\n",
        "report = classification_report(y_test, y_pred)\n",
        "print(report)"
      ],
      "metadata": {
        "colab": {
          "base_uri": "https://localhost:8080/"
        },
        "id": "aQVbatqH6IKM",
        "outputId": "75114999-3acb-4674-b879-a0d19423ca63"
      },
      "execution_count": 15,
      "outputs": [
        {
          "output_type": "stream",
          "name": "stdout",
          "text": [
            "              precision    recall  f1-score   support\n",
            "\n",
            "           0       0.87      0.94      0.90       153\n",
            "           1       0.64      0.42      0.51        38\n",
            "\n",
            "    accuracy                           0.84       191\n",
            "   macro avg       0.75      0.68      0.71       191\n",
            "weighted avg       0.82      0.84      0.82       191\n",
            "\n"
          ]
        }
      ]
    },
    {
      "cell_type": "markdown",
      "source": [
        "## Threshold experiment with XGB classifier"
      ],
      "metadata": {
        "id": "cnhFZiBUEWgp"
      }
    },
    {
      "cell_type": "code",
      "source": [
        "y_pred_proba = xgb_model.predict_proba(X_test_pca)[:, 1]\n",
        "\n",
        "thresholds = [0.1, 0.2, 0.3, 0.4, 0.5, 0.6, 0.7, 0.8, 0.9]\n",
        "\n",
        "for threshold in thresholds:\n",
        "    y_pred = (y_pred_proba >= threshold).astype(int)\n",
        "    report = classification_report(y_test, y_pred)\n",
        "    print(f\"Classification Report with Threshold {threshold}:\")\n",
        "    print(report)\n",
        "    print()"
      ],
      "metadata": {
        "colab": {
          "base_uri": "https://localhost:8080/"
        },
        "id": "oCyGjGus58i6",
        "outputId": "1c4b0730-eb0b-40e9-d172-357d7eee9aa7"
      },
      "execution_count": 17,
      "outputs": [
        {
          "output_type": "stream",
          "name": "stdout",
          "text": [
            "Classification Report with Threshold 0.1:\n",
            "              precision    recall  f1-score   support\n",
            "\n",
            "           0       0.96      0.86      0.91       153\n",
            "           1       0.60      0.84      0.70        38\n",
            "\n",
            "    accuracy                           0.86       191\n",
            "   macro avg       0.78      0.85      0.81       191\n",
            "weighted avg       0.89      0.86      0.87       191\n",
            "\n",
            "\n",
            "Classification Report with Threshold 0.2:\n",
            "              precision    recall  f1-score   support\n",
            "\n",
            "           0       0.93      0.89      0.91       153\n",
            "           1       0.62      0.74      0.67        38\n",
            "\n",
            "    accuracy                           0.86       191\n",
            "   macro avg       0.78      0.81      0.79       191\n",
            "weighted avg       0.87      0.86      0.86       191\n",
            "\n",
            "\n",
            "Classification Report with Threshold 0.3:\n",
            "              precision    recall  f1-score   support\n",
            "\n",
            "           0       0.89      0.90      0.90       153\n",
            "           1       0.58      0.55      0.57        38\n",
            "\n",
            "    accuracy                           0.83       191\n",
            "   macro avg       0.74      0.73      0.73       191\n",
            "weighted avg       0.83      0.83      0.83       191\n",
            "\n",
            "\n",
            "Classification Report with Threshold 0.4:\n",
            "              precision    recall  f1-score   support\n",
            "\n",
            "           0       0.87      0.91      0.89       153\n",
            "           1       0.55      0.45      0.49        38\n",
            "\n",
            "    accuracy                           0.82       191\n",
            "   macro avg       0.71      0.68      0.69       191\n",
            "weighted avg       0.81      0.82      0.81       191\n",
            "\n",
            "\n",
            "Classification Report with Threshold 0.5:\n",
            "              precision    recall  f1-score   support\n",
            "\n",
            "           0       0.87      0.94      0.90       153\n",
            "           1       0.64      0.42      0.51        38\n",
            "\n",
            "    accuracy                           0.84       191\n",
            "   macro avg       0.75      0.68      0.71       191\n",
            "weighted avg       0.82      0.84      0.82       191\n",
            "\n",
            "\n",
            "Classification Report with Threshold 0.6:\n",
            "              precision    recall  f1-score   support\n",
            "\n",
            "           0       0.87      0.95      0.91       153\n",
            "           1       0.67      0.42      0.52        38\n",
            "\n",
            "    accuracy                           0.84       191\n",
            "   macro avg       0.77      0.68      0.71       191\n",
            "weighted avg       0.83      0.84      0.83       191\n",
            "\n",
            "\n",
            "Classification Report with Threshold 0.7:\n",
            "              precision    recall  f1-score   support\n",
            "\n",
            "           0       0.86      0.97      0.91       153\n",
            "           1       0.72      0.34      0.46        38\n",
            "\n",
            "    accuracy                           0.84       191\n",
            "   macro avg       0.79      0.65      0.69       191\n",
            "weighted avg       0.83      0.84      0.82       191\n",
            "\n",
            "\n",
            "Classification Report with Threshold 0.8:\n",
            "              precision    recall  f1-score   support\n",
            "\n",
            "           0       0.85      0.99      0.92       153\n",
            "           1       0.86      0.32      0.46        38\n",
            "\n",
            "    accuracy                           0.85       191\n",
            "   macro avg       0.86      0.65      0.69       191\n",
            "weighted avg       0.85      0.85      0.82       191\n",
            "\n",
            "\n",
            "Classification Report with Threshold 0.9:\n",
            "              precision    recall  f1-score   support\n",
            "\n",
            "           0       0.85      1.00      0.92       153\n",
            "           1       1.00      0.26      0.42        38\n",
            "\n",
            "    accuracy                           0.85       191\n",
            "   macro avg       0.92      0.63      0.67       191\n",
            "weighted avg       0.88      0.85      0.82       191\n",
            "\n",
            "\n"
          ]
        }
      ]
    },
    {
      "cell_type": "markdown",
      "source": [
        "## Building Visuals"
      ],
      "metadata": {
        "id": "frFcvBHbGHBy"
      }
    },
    {
      "cell_type": "code",
      "source": [
        "import numpy as np\n",
        "import matplotlib.pyplot as plt\n",
        "from sklearn.metrics import precision_score, recall_score\n",
        "\n",
        "# Assuming y_test and y_pred_proba are already defined from your model\n",
        "# and the test data.\n",
        "\n",
        "# Specify the thresholds you want to evaluate\n",
        "thresholds = [0.1, 0.2, 0.3, 0.4, 0.5, 0.6, 0.7, 0.8, 0.9]\n",
        "\n",
        "# Lists to hold precision and recall scores for the minority class\n",
        "precision_minority = []\n",
        "recall_minority = []\n",
        "\n",
        "# Calculate precision and recall for each threshold\n",
        "for threshold in thresholds:\n",
        "    y_pred = (y_pred_proba >= threshold).astype(int)\n",
        "\n",
        "    # Calculate precision and recall for class 1 (the minority class in this scenario)\n",
        "    precision_minority.append(precision_score(y_test, y_pred, pos_label=1))\n",
        "    recall_minority.append(recall_score(y_test, y_pred, pos_label=1))\n",
        "\n",
        "# Plotting\n",
        "plt.figure(figsize=(10, 6))\n",
        "plt.plot(thresholds, precision_minority, label='Precision', marker='o')\n",
        "plt.plot(thresholds, recall_minority, label='Recall', marker='x')\n",
        "\n",
        "plt.title('Precision and Recall for Minority Class Across Different Thresholds')\n",
        "plt.xlabel('Threshold')\n",
        "plt.ylabel('Score')\n",
        "plt.xticks(thresholds)\n",
        "plt.grid(True)\n",
        "plt.legend()\n",
        "plt.show()"
      ],
      "metadata": {
        "colab": {
          "base_uri": "https://localhost:8080/",
          "height": 564
        },
        "id": "jnYQvuxPFpXT",
        "outputId": "be2d1e28-aa5c-4e77-bb26-fe8e594d14cc"
      },
      "execution_count": 18,
      "outputs": [
        {
          "output_type": "display_data",
          "data": {
            "text/plain": [
              "<Figure size 1000x600 with 1 Axes>"
            ],
            "image/png": "[encoded data removed]"
          },
          "metadata": {}
        }
      ]
    },
    {
      "cell_type": "markdown",
      "source": [
        "## Mixtral Expeiments - reading data and embedding"
      ],
      "metadata": {
        "id": "E33mAHvXGK2a"
      }
    },
    {
      "cell_type": "code",
      "source": [
        "df_mixtral = pd.read_csv(\"/content/LJMU_Thesis/Processed_output/mixtral_generated_output.csv\")\n",
        "\n",
        "\n",
        "def get_embedding(text):\n",
        "    response = openai.Embedding.create(\n",
        "        model=\"text-embedding-ada-002\",\n",
        "        input=text\n",
        "    )\n",
        "    return response['data'][0]['embedding']\n",
        "\n",
        "df_mixtral['Embedding'] = df_mixtral['GeneratedText'].apply(get_embedding)"
      ],
      "metadata": {
        "id": "PHBZZzNlFpZl"
      },
      "execution_count": 20,
      "outputs": []
    },
    {
      "cell_type": "markdown",
      "source": [
        "## Mixtral modelling experiments"
      ],
      "metadata": {
        "id": "ZJ7dS2sjG9VJ"
      }
    },
    {
      "cell_type": "code",
      "source": [
        "import matplotlib.pyplot as plt\n",
        "# Prepare data\n",
        "X = df_mixtral['Embedding'].tolist()\n",
        "y = df_mixtral['Target'].values\n",
        "\n",
        "# Train-test split\n",
        "X_train, X_test, y_train, y_test = train_test_split(X, y, test_size=0.2, random_state=42)\n",
        "\n",
        "# Standardize the embeddings\n",
        "scaler = StandardScaler()\n",
        "X_train = scaler.fit_transform(X_train)\n",
        "X_test = scaler.transform(X_test)\n",
        "\n",
        "# Apply PCA and determine the explained variance\n",
        "pca = PCA()\n",
        "pca.fit(X_train)\n",
        "\n",
        "# Plot explained variance\n",
        "plt.figure(figsize=(10, 5))\n",
        "plt.plot(range(1, len(pca.explained_variance_ratio_) + 1), np.cumsum(pca.explained_variance_ratio_), marker='o')\n",
        "plt.title('Cumulative Explained Variance by PCA Components')\n",
        "plt.xlabel('Number of Components')\n",
        "plt.ylabel('Cumulative Explained Variance')\n",
        "plt.axhline(y=0.95, color='r', linestyle='--', label='95% Variance Threshold')\n",
        "plt.axvline(x=90, color='gray', linestyle='--')\n",
        "plt.legend()\n",
        "plt.grid()\n",
        "plt.show()"
      ],
      "metadata": {
        "colab": {
          "base_uri": "https://localhost:8080/",
          "height": 487
        },
        "id": "1wMCQvtmFpb8",
        "outputId": "2ecdaf26-fbd2-4c24-f1f6-24d6301641d9"
      },
      "execution_count": 21,
      "outputs": [
        {
          "output_type": "display_data",
          "data": {
            "text/plain": [
              "<Figure size 1000x500 with 1 Axes>"
            ],
            "image/png": "[encoded data removed]"
          },
          "metadata": {}
        }
      ]
    },
    {
      "cell_type": "code",
      "source": [
        "\n",
        "# Split the data into training and testing sets\n",
        "X_train, X_test, y_train, y_test = train_test_split(\n",
        "    df_mixtral['Embedding'].tolist(),\n",
        "    df_mixtral['Target'],\n",
        "    test_size=0.2,\n",
        "    random_state=42\n",
        ")\n",
        "\n",
        "# Standardize the embeddings\n",
        "scaler = StandardScaler()\n",
        "X_train = scaler.fit_transform(X_train)\n",
        "X_test = scaler.transform(X_test)\n",
        "\n",
        "# Dimensionality Reduction with PCA\n",
        "# pca = PCA(n_components=min(len(X_train), X_train.shape[1]))\n",
        "pca = PCA(n_components=90)\n",
        "X_train_pca = pca.fit_transform(X_train)\n",
        "X_test_pca = pca.transform(X_test)\n",
        "\n",
        "# Train a RandomForestClassifier\n",
        "clf = RandomForestClassifier(n_estimators=100, random_state=42)\n",
        "clf.fit(X_train_pca, y_train)\n",
        "\n",
        "# Make predictions and evaluate the model\n",
        "y_pred = clf.predict(X_test_pca)\n",
        "report = classification_report(y_test, y_pred)\n",
        "print(report)"
      ],
      "metadata": {
        "colab": {
          "base_uri": "https://localhost:8080/"
        },
        "id": "i5SHWPZ2GwBE",
        "outputId": "bb4c8be2-8e66-4582-ec96-a4544cc23768"
      },
      "execution_count": 24,
      "outputs": [
        {
          "output_type": "stream",
          "name": "stdout",
          "text": [
            "              precision    recall  f1-score   support\n",
            "\n",
            "           0       0.82      0.98      0.89       153\n",
            "           1       0.62      0.13      0.22        38\n",
            "\n",
            "    accuracy                           0.81       191\n",
            "   macro avg       0.72      0.56      0.56       191\n",
            "weighted avg       0.78      0.81      0.76       191\n",
            "\n"
          ]
        }
      ]
    },
    {
      "cell_type": "code",
      "source": [
        "xgb_model = xgb.XGBClassifier(objective='binary:logistic', eval_metric='logloss', seed=42)\n",
        "xgb_model.fit(X_train_pca, y_train)\n",
        "y_pred = xgb_model.predict(X_test_pca)\n",
        "\n",
        "report = classification_report(y_test, y_pred)\n",
        "print(report)"
      ],
      "metadata": {
        "colab": {
          "base_uri": "https://localhost:8080/"
        },
        "id": "0lKY9zTPFpeT",
        "outputId": "52e1f2c1-45c6-4a05-c34c-82c3605d7770"
      },
      "execution_count": 25,
      "outputs": [
        {
          "output_type": "stream",
          "name": "stdout",
          "text": [
            "              precision    recall  f1-score   support\n",
            "\n",
            "           0       0.87      0.92      0.89       153\n",
            "           1       0.57      0.45      0.50        38\n",
            "\n",
            "    accuracy                           0.82       191\n",
            "   macro avg       0.72      0.68      0.70       191\n",
            "weighted avg       0.81      0.82      0.81       191\n",
            "\n"
          ]
        }
      ]
    },
    {
      "cell_type": "code",
      "source": [
        "y_pred_proba = xgb_model.predict_proba(X_test_pca)[:, 1]\n",
        "\n",
        "thresholds = [0.1, 0.2, 0.3, 0.4, 0.5, 0.6, 0.7, 0.8, 0.9]\n",
        "\n",
        "for threshold in thresholds:\n",
        "    y_pred = (y_pred_proba >= threshold).astype(int)\n",
        "    report = classification_report(y_test, y_pred)\n",
        "    print(f\"Classification Report with Threshold {threshold}:\")\n",
        "    print(report)\n",
        "    print()"
      ],
      "metadata": {
        "colab": {
          "base_uri": "https://localhost:8080/"
        },
        "id": "I1vO98A3FphS",
        "outputId": "bbe7530a-7f90-4841-bab0-0b6198492b4d"
      },
      "execution_count": 26,
      "outputs": [
        {
          "output_type": "stream",
          "name": "stdout",
          "text": [
            "Classification Report with Threshold 0.1:\n",
            "              precision    recall  f1-score   support\n",
            "\n",
            "           0       0.90      0.79      0.84       153\n",
            "           1       0.43      0.63      0.51        38\n",
            "\n",
            "    accuracy                           0.76       191\n",
            "   macro avg       0.66      0.71      0.68       191\n",
            "weighted avg       0.80      0.76      0.77       191\n",
            "\n",
            "\n",
            "Classification Report with Threshold 0.2:\n",
            "              precision    recall  f1-score   support\n",
            "\n",
            "           0       0.90      0.88      0.89       153\n",
            "           1       0.55      0.61      0.57        38\n",
            "\n",
            "    accuracy                           0.82       191\n",
            "   macro avg       0.72      0.74      0.73       191\n",
            "weighted avg       0.83      0.82      0.83       191\n",
            "\n",
            "\n",
            "Classification Report with Threshold 0.3:\n",
            "              precision    recall  f1-score   support\n",
            "\n",
            "           0       0.89      0.89      0.89       153\n",
            "           1       0.56      0.58      0.57        38\n",
            "\n",
            "    accuracy                           0.83       191\n",
            "   macro avg       0.73      0.73      0.73       191\n",
            "weighted avg       0.83      0.83      0.83       191\n",
            "\n",
            "\n",
            "Classification Report with Threshold 0.4:\n",
            "              precision    recall  f1-score   support\n",
            "\n",
            "           0       0.88      0.90      0.89       153\n",
            "           1       0.57      0.53      0.55        38\n",
            "\n",
            "    accuracy                           0.83       191\n",
            "   macro avg       0.73      0.71      0.72       191\n",
            "weighted avg       0.82      0.83      0.82       191\n",
            "\n",
            "\n",
            "Classification Report with Threshold 0.5:\n",
            "              precision    recall  f1-score   support\n",
            "\n",
            "           0       0.87      0.92      0.89       153\n",
            "           1       0.57      0.45      0.50        38\n",
            "\n",
            "    accuracy                           0.82       191\n",
            "   macro avg       0.72      0.68      0.70       191\n",
            "weighted avg       0.81      0.82      0.81       191\n",
            "\n",
            "\n",
            "Classification Report with Threshold 0.6:\n",
            "              precision    recall  f1-score   support\n",
            "\n",
            "           0       0.87      0.93      0.90       153\n",
            "           1       0.59      0.42      0.49        38\n",
            "\n",
            "    accuracy                           0.83       191\n",
            "   macro avg       0.73      0.67      0.69       191\n",
            "weighted avg       0.81      0.83      0.82       191\n",
            "\n",
            "\n",
            "Classification Report with Threshold 0.7:\n",
            "              precision    recall  f1-score   support\n",
            "\n",
            "           0       0.85      0.95      0.90       153\n",
            "           1       0.65      0.34      0.45        38\n",
            "\n",
            "    accuracy                           0.83       191\n",
            "   macro avg       0.75      0.65      0.67       191\n",
            "weighted avg       0.81      0.83      0.81       191\n",
            "\n",
            "\n",
            "Classification Report with Threshold 0.8:\n",
            "              precision    recall  f1-score   support\n",
            "\n",
            "           0       0.84      0.97      0.90       153\n",
            "           1       0.71      0.26      0.38        38\n",
            "\n",
            "    accuracy                           0.83       191\n",
            "   macro avg       0.78      0.62      0.64       191\n",
            "weighted avg       0.82      0.83      0.80       191\n",
            "\n",
            "\n",
            "Classification Report with Threshold 0.9:\n",
            "              precision    recall  f1-score   support\n",
            "\n",
            "           0       0.81      0.97      0.89       153\n",
            "           1       0.50      0.11      0.17        38\n",
            "\n",
            "    accuracy                           0.80       191\n",
            "   macro avg       0.66      0.54      0.53       191\n",
            "weighted avg       0.75      0.80      0.75       191\n",
            "\n",
            "\n"
          ]
        }
      ]
    },
    {
      "cell_type": "markdown",
      "source": [
        "## Buidling visuals"
      ],
      "metadata": {
        "id": "MANm-co_HwOg"
      }
    },
    {
      "cell_type": "code",
      "source": [
        "import numpy as np\n",
        "import matplotlib.pyplot as plt\n",
        "from sklearn.metrics import precision_score, recall_score\n",
        "\n",
        "# Assuming y_test and y_pred_proba are already defined from your model\n",
        "# and the test data.\n",
        "\n",
        "# Specify the thresholds you want to evaluate\n",
        "thresholds = [0.1, 0.2, 0.3, 0.4, 0.5, 0.6, 0.7, 0.8, 0.9]\n",
        "\n",
        "# Lists to hold precision and recall scores for the minority class\n",
        "precision_minority = []\n",
        "recall_minority = []\n",
        "\n",
        "# Calculate precision and recall for each threshold\n",
        "for threshold in thresholds:\n",
        "    y_pred = (y_pred_proba >= threshold).astype(int)\n",
        "\n",
        "    # Calculate precision and recall for class 1 (the minority class in this scenario)\n",
        "    precision_minority.append(precision_score(y_test, y_pred, pos_label=1))\n",
        "    recall_minority.append(recall_score(y_test, y_pred, pos_label=1))\n",
        "\n",
        "# Plotting\n",
        "plt.figure(figsize=(10, 6))\n",
        "plt.plot(thresholds, precision_minority, label='Precision', marker='o')\n",
        "plt.plot(thresholds, recall_minority, label='Recall', marker='x')\n",
        "\n",
        "plt.title('Precision and Recall for Minority Class Across Different Thresholds')\n",
        "plt.xlabel('Threshold')\n",
        "plt.ylabel('Score')\n",
        "plt.xticks(thresholds)\n",
        "plt.grid(True)\n",
        "plt.legend()\n",
        "plt.show()"
      ],
      "metadata": {
        "colab": {
          "base_uri": "https://localhost:8080/",
          "height": 564
        },
        "id": "YEd5UIDzFpkL",
        "outputId": "8f0d2c37-788d-4c0c-c67f-c931c1376c76"
      },
      "execution_count": 27,
      "outputs": [
        {
          "output_type": "display_data",
          "data": {
            "text/plain": [
              "<Figure size 1000x600 with 1 Axes>"
            ],
            "image/png": "[encoded data removed]"
          },
          "metadata": {}
        }
      ]
    },
    {
      "cell_type": "markdown",
      "source": [
        "## LLama Experiments"
      ],
      "metadata": {
        "id": "iFnpA28DH_Qe"
      }
    },
    {
      "cell_type": "code",
      "source": [
        "df_llama = pd.read_csv(\"/content/LJMU_Thesis/Processed_output/llama_generated_output.csv\")\n",
        "\n",
        "df_llama['Embedding'] = df_llama['GeneratedText'].apply(get_embedding)"
      ],
      "metadata": {
        "id": "GrGHVcIZIBJS"
      },
      "execution_count": null,
      "outputs": []
    },
    {
      "cell_type": "code",
      "source": [
        "X = df_llama['Embedding'].tolist()\n",
        "y = df_llama['Target'].values\n",
        "\n",
        "# Train-test split\n",
        "X_train, X_test, y_train, y_test = train_test_split(X, y, test_size=0.2, random_state=42)\n",
        "\n",
        "# Standardize the embeddings\n",
        "scaler = StandardScaler()\n",
        "X_train = scaler.fit_transform(X_train)\n",
        "X_test = scaler.transform(X_test)\n",
        "\n",
        "# Apply PCA and determine the explained variance\n",
        "pca = PCA()\n",
        "pca.fit(X_train)\n",
        "\n",
        "# Plot explained variance\n",
        "plt.figure(figsize=(10, 5))\n",
        "plt.plot(range(1, len(pca.explained_variance_ratio_) + 1), np.cumsum(pca.explained_variance_ratio_), marker='o')\n",
        "plt.title('Cumulative Explained Variance by PCA Components')\n",
        "plt.xlabel('Number of Components')\n",
        "plt.ylabel('Cumulative Explained Variance')\n",
        "plt.axhline(y=0.95, color='r', linestyle='--', label='95% Variance Threshold')\n",
        "plt.axvline(x=90, color='gray', linestyle='--')\n",
        "plt.legend()\n",
        "plt.grid()\n",
        "plt.show()"
      ],
      "metadata": {
        "id": "ZIYPnmtLIJfA"
      },
      "execution_count": null,
      "outputs": []
    },
    {
      "cell_type": "code",
      "source": [
        "\n",
        "# Split the data into training and testing sets\n",
        "X_train, X_test, y_train, y_test = train_test_split(\n",
        "    df_mixtral['Embedding'].tolist(),\n",
        "    df_mixtral['Target'],\n",
        "    test_size=0.2,\n",
        "    random_state=42\n",
        ")\n",
        "\n",
        "# Standardize the embeddings\n",
        "scaler = StandardScaler()\n",
        "X_train = scaler.fit_transform(X_train)\n",
        "X_test = scaler.transform(X_test)\n",
        "\n",
        "# Dimensionality Reduction with PCA\n",
        "# pca = PCA(n_components=min(len(X_train), X_train.shape[1]))\n",
        "pca = PCA(n_components=90)\n",
        "X_train_pca = pca.fit_transform(X_train)\n",
        "X_test_pca = pca.transform(X_test)\n",
        "\n",
        "# Train a RandomForestClassifier\n",
        "clf = RandomForestClassifier(n_estimators=100, random_state=42)\n",
        "clf.fit(X_train_pca, y_train)\n",
        "\n",
        "# Make predictions and evaluate the model\n",
        "y_pred = clf.predict(X_test_pca)\n",
        "report = classification_report(y_test, y_pred)\n",
        "print(report)\n",
        "\n",
        "xgb_model = xgb.XGBClassifier(objective='binary:logistic', eval_metric='logloss', seed=42)\n",
        "xgb_model.fit(X_train_pca, y_train)\n",
        "y_pred = xgb_model.predict(X_test_pca)\n",
        "\n",
        "report = classification_report(y_test, y_pred)\n",
        "print(report)"
      ],
      "metadata": {
        "id": "svrwUVHjIO47"
      },
      "execution_count": null,
      "outputs": []
    },
    {
      "cell_type": "code",
      "source": [
        "y_pred_proba = xgb_model.predict_proba(X_test_pca)[:, 1]\n",
        "\n",
        "thresholds = [0.1, 0.2, 0.3, 0.4, 0.5, 0.6, 0.7, 0.8, 0.9]\n",
        "\n",
        "for threshold in thresholds:\n",
        "    y_pred = (y_pred_proba >= threshold).astype(int)\n",
        "    report = classification_report(y_test, y_pred)\n",
        "    print(f\"Classification Report with Threshold {threshold}:\")\n",
        "    print(report)\n",
        "    print()"
      ],
      "metadata": {
        "id": "NIXHhWrBIO2P"
      },
      "execution_count": null,
      "outputs": []
    },
    {
      "cell_type": "code",
      "source": [
        "import numpy as np\n",
        "import matplotlib.pyplot as plt\n",
        "from sklearn.metrics import precision_score, recall_score\n",
        "\n",
        "# Assuming y_test and y_pred_proba are already defined from your model\n",
        "# and the test data.\n",
        "\n",
        "# Specify the thresholds you want to evaluate\n",
        "thresholds = [0.1, 0.2, 0.3, 0.4, 0.5, 0.6, 0.7, 0.8, 0.9]\n",
        "\n",
        "# Lists to hold precision and recall scores for the minority class\n",
        "precision_minority = []\n",
        "recall_minority = []\n",
        "\n",
        "# Calculate precision and recall for each threshold\n",
        "for threshold in thresholds:\n",
        "    y_pred = (y_pred_proba >= threshold).astype(int)\n",
        "\n",
        "    # Calculate precision and recall for class 1 (the minority class in this scenario)\n",
        "    precision_minority.append(precision_score(y_test, y_pred, pos_label=1))\n",
        "    recall_minority.append(recall_score(y_test, y_pred, pos_label=1))\n",
        "\n",
        "# Plotting\n",
        "plt.figure(figsize=(10, 6))\n",
        "plt.plot(thresholds, precision_minority, label='Precision', marker='o')\n",
        "plt.plot(thresholds, recall_minority, label='Recall', marker='x')\n",
        "\n",
        "plt.title('Precision and Recall for Minority Class Across Different Thresholds')\n",
        "plt.xlabel('Threshold')\n",
        "plt.ylabel('Score')\n",
        "plt.xticks(thresholds)\n",
        "plt.grid(True)\n",
        "plt.legend()\n",
        "plt.show()"
      ],
      "metadata": {
        "id": "NMv7bKDjIOz2"
      },
      "execution_count": null,
      "outputs": []
    },
    {
      "cell_type": "code",
      "source": [],
      "metadata": {
        "id": "IDLW9VkwIOxe"
      },
      "execution_count": null,
      "outputs": []
    },
    {
      "cell_type": "code",
      "source": [],
      "metadata": {
        "id": "tv4bEu4oIOsr"
      },
      "execution_count": null,
      "outputs": []
    },
    {
      "cell_type": "code",
      "source": [],
      "metadata": {
        "id": "b6-uxpxEIOqe"
      },
      "execution_count": null,
      "outputs": []
    }
  ]
}